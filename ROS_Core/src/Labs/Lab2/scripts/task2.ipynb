{
 "cells": [
  {
   "cell_type": "code",
   "execution_count": null,
   "metadata": {},
   "outputs": [],
   "source": [
    "%load_ext autoreload\n",
    "%autoreload 2"
   ]
  },
  {
   "cell_type": "code",
   "execution_count": null,
   "metadata": {},
   "outputs": [],
   "source": [
    "import math\n",
    "import sys\n",
    "import matplotlib.pyplot as plt\n",
    "from frs import multistep_zonotope_reachset\n",
    "import numpy as np\n"
   ]
  },
  {
   "cell_type": "code",
   "execution_count": null,
   "metadata": {},
   "outputs": [],
   "source": [
    "K_vx = 5\n",
    "K_y = 5\n",
    "K_vy = 5\n",
    "v_ref = 1\n",
    "dx = 1\n",
    "dy = 1\n",
    "# run zonotope example\n",
    "a_mat = np.array([[0, 0, 1, 0, 0], \n",
    "        [0, 0, 0, 1, 0],\n",
    "        [0, 0, 0, 0, 0],\n",
    "        [0, 0, 0, 0, 0],\n",
    "        [0, 0, 0, 0, 0]])\n",
    "b_mat = np.array([[0, 0],\n",
    "        [0, 0],\n",
    "        [1,0],\n",
    "        [0,1],\n",
    "        [0,0]])\n",
    "\n",
    "k_mat = np.array([[0, 0, K_vx, 0, -K_vx],\n",
    "        [0, K_y, 0, K_vy, 0]])\n",
    "\n",
    "\n",
    "a_hat_mat = a_mat - b_mat@k_mat\n",
    "\n",
    "init_box = [[-1e-3, 1e-3], [-1e-3, 1e-3], [1,1], [0,0], [v_ref, v_ref]]\n",
    "input_box = [[-dx, dx], [-dy, dy]]\n",
    "\n",
    "num_steps = 20\n",
    "dt = 0.1\n",
    "\n",
    "dt_list = []\n",
    "for _ in range(num_steps):\n",
    "    dt_list.append(dt)\n",
    "zonotopes = multistep_zonotope_reachset(init_box, a_hat_mat, b_mat, input_box, dt_list)\n",
    "\n",
    "# plot first set in red\n",
    "plt.figure(figsize=(6, 6))\n",
    "    \n",
    "zonotopes[0].plot(col='r-o', label='Init')\n",
    "for i, z in enumerate(zonotopes[1:]):\n",
    "    label = 'Reach Set' if i == 0 else None\n",
    "    z.plot(label=label)\n",
    "\n",
    "plt.title('Quickzonoreach Output (example_plot.py)')\n",
    "plt.ylim(-0.5, 0.5)\n",
    "plt.gca().set_aspect('equal', adjustable='box')\n",
    "plt.legend()\n",
    "plt.grid()"
   ]
  }
 ],
 "metadata": {
  "kernelspec": {
   "display_name": "spirit-rl-pybullet",
   "language": "python",
   "name": "python3"
  },
  "language_info": {
   "codemirror_mode": {
    "name": "ipython",
    "version": 3
   },
   "file_extension": ".py",
   "mimetype": "text/x-python",
   "name": "python",
   "nbconvert_exporter": "python",
   "pygments_lexer": "ipython3",
   "version": "3.9.15"
  },
  "orig_nbformat": 4
 },
 "nbformat": 4,
 "nbformat_minor": 2
}
