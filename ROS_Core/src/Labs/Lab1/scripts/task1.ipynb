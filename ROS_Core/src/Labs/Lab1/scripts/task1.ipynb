{
  "cells": [
    {
      "cell_type": "code",
      "execution_count": null,
      "metadata": {},
      "outputs": [],
      "source": [
        "%load_ext autoreload\n",
        "%autoreload 2"
      ]
    },
    {
      "attachments": {},
      "cell_type": "markdown",
      "metadata": {},
      "source": [
        "# Getting Started \n",
        "Make sure your select ***ros_base*** as your kernel. You can do this by clicking on the kernel dropdown menu and selecting *ros_base*.\n"
      ]
    },
    {
      "attachments": {},
      "cell_type": "markdown",
      "metadata": {
        "id": "RV600AF6pAR0"
      },
      "source": [
        "## Import Python dependencies"
      ]
    },
    {
      "cell_type": "code",
      "execution_count": null,
      "metadata": {},
      "outputs": [],
      "source": [
        "import numpy as np\n",
        "from matplotlib import pyplot as plt\n",
        "from matplotlib import animation, cm\n",
        "from IPython.display import HTML\n",
        "import numpy as np\n",
        "import csv\n",
        "\n",
        "import tqdm as tqdm\n",
        "\n",
        "\n",
        "plt.rcParams['font.family'] = 'serif'\n",
        "plt.rcParams['font.serif'] = ['Times New Roman'] + plt.rcParams['font.serif']\n",
        "\n",
        "from ILQR import RefPath\n",
        "from ILQR import ILQR\n",
        "\n"
      ]
    },
    {
      "cell_type": "code",
      "execution_count": null,
      "metadata": {},
      "outputs": [],
      "source": [
        "def load_path(filepath: str):\n",
        "    \"\"\"\n",
        "    Gets the centerline of the track from the trajectory data. We currently only\n",
        "    support 2D track.\n",
        "\n",
        "    Args:\n",
        "        filepath (str): the path to file consisting of the centerline position.\n",
        "\n",
        "    Returns:\n",
        "        np.ndarray: centerline, of the shape (2, N).\n",
        "    \"\"\"\n",
        "    x = []\n",
        "    y = []\n",
        "    with open(filepath) as f:\n",
        "        spamreader = csv.reader(f, delimiter=',')\n",
        "        for i, row in enumerate(spamreader):\n",
        "            if i > 0:\n",
        "                x.append(float(row[0]))\n",
        "                y.append(float(row[1]))\n",
        "\n",
        "    return np.array([x, y])"
      ]
    },
    {
      "attachments": {},
      "cell_type": "markdown",
      "metadata": {
        "id": "xNohI8RWJyCB"
      },
      "source": [
        "## Generate a reference trajectory"
      ]
    },
    {
      "cell_type": "code",
      "execution_count": null,
      "metadata": {},
      "outputs": [],
      "source": [
        "# Define the file paths\n",
        "config_file = 'task1/task1.yaml'\n",
        "track_path = 'task1/ref_path.csv'\n",
        "\n",
        "# Load the reference path\n",
        "x = []\n",
        "y = []\n",
        "left_width = []\n",
        "right_width = []\n",
        "with open(track_path, newline='') as f:\n",
        "    spamreader = csv.reader(f, delimiter=',')\n",
        "    for i, row in enumerate(spamreader):\n",
        "        if i>0:\n",
        "            x.append(float(row[0]))\n",
        "            y.append(float(row[1]))\n",
        "            left_width.append(float(row[3]))\n",
        "            right_width.append(float(row[2]))\n",
        "            \n",
        "x = np.array(x)/30.0\n",
        "y = np.array(y)/30.0\n",
        "left_width = np.array(left_width)\n",
        "right_width = np.array(right_width)\n",
        "center_line = np.array([x,y])\n"
      ]
    },
    {
      "cell_type": "code",
      "execution_count": null,
      "metadata": {},
      "outputs": [],
      "source": [
        "# Create a reference path\n",
        "ref_path = RefPath(center_line, width_left = 0.6, width_right = 0.6, speed_limt = 5, loop = True)\n",
        "\n",
        "# Visualize the reference path\n",
        "ref_path.plot_track(linewidth = 1)\n",
        "ref_path.plot_track_center(linewidth = 0.8, c='r')\n",
        "plt.axis('equal')\n",
        "_ = plt.axis('off')\n"
      ]
    },
    {
      "attachments": {},
      "cell_type": "markdown",
      "metadata": {},
      "source": [
        "## Test your ILQR planner\n",
        "The planner need to warmup for a few steps for the first time it is run. This process will takes 10-30 seconds depending on your computer."
      ]
    },
    {
      "cell_type": "code",
      "execution_count": null,
      "metadata": {},
      "outputs": [],
      "source": [
        "ilqr = ILQR(config_file)\n",
        "ilqr.update_ref_path(ref_path)\n"
      ]
    },
    {
      "attachments": {},
      "cell_type": "markdown",
      "metadata": {},
      "source": [
        "### Plan for one step"
      ]
    },
    {
      "cell_type": "code",
      "execution_count": null,
      "metadata": {},
      "outputs": [],
      "source": [
        "# Create an ILQR solver\n",
        "x_init = np.array([x[60], y[60], 5, np.arctan2(y[61]-y[60], x[61]-x[60]), 0])\n",
        "plan = ilqr.plan(x_init)\n",
        "\n",
        "# Visualize the reference path\n",
        "ref_path.plot_track(linewidth = 1)\n",
        "ref_path.plot_track_center(linewidth = 0.8, c='r')\n",
        "plt.plot(plan['trajectory'][0, :], plan['trajectory'][1, :], 'b-', linewidth=1)\n",
        "plt.axis('equal')\n",
        "\n",
        "plt.figure()\n",
        "a = plan['trajectory'][2, :] \n",
        "plt.plot(a)\n",
        "plt.title('Velocity')\n",
        "\n",
        "plt.figure()\n",
        "# plt.plot(plan['controls'][0,:])\n",
        "plt.plot(plan['trajectory'][-1,:], '--')\n",
        "plt.title('Steering')\n",
        "\n",
        "plt.figure()\n",
        "a = plan['trajectory'][2, :]**2 / 0.257 * np.tan(plan['trajectory'][-1, :])\n",
        "plt.plot(a)\n",
        "plt.title('Lateral Acceleration')\n"
      ]
    },
    {
      "attachments": {},
      "cell_type": "markdown",
      "metadata": {},
      "source": [
        "### Plan for the entire track"
      ]
    },
    {
      "cell_type": "code",
      "execution_count": null,
      "metadata": {},
      "outputs": [],
      "source": [
        "itr_receding = 400\n",
        "init_control = np.zeros((2, ilqr.T))\n",
        "x_cur = np.array([x[0], y[0], 4, np.arctan2(y[1]-y[0], x[1]-x[0]), 0])\n",
        "state_history = np.zeros((5,itr_receding + 1))\n",
        "state_history[:,0] = x_cur\n",
        "plan_history = np.zeros((5, ilqr.T, itr_receding))\n",
        "control_history = np.zeros((2,itr_receding))\n",
        "t_process = np.zeros(itr_receding)\n",
        "for i in (pbar := tqdm.tqdm(range(itr_receding))):\n",
        "    plan = ilqr.plan(x_cur, init_control)\n",
        "    \n",
        "    trajectory = plan['trajectory']\n",
        "    controls = plan['controls']\n",
        "    \n",
        "    # record the state and control\n",
        "    state_history[:,i+1]  = trajectory[:,1]\n",
        "    control_history[:,i] = controls[:,0]\n",
        "    plan_history[:,:,i] = trajectory\n",
        "    t_process[i] = plan['t_process']\n",
        "    \n",
        "    # prepare for next iteration\n",
        "    x_cur = trajectory[:,1] \n",
        "    init_control[:,:-1] = controls[:,1:]\n",
        "    \n",
        "    pbar.set_description(f\"ILQR takes : {plan['t_process']:.2f} sec']\")"
      ]
    },
    {
      "attachments": {},
      "cell_type": "markdown",
      "metadata": {},
      "source": [
        "### Visualize the results"
      ]
    },
    {
      "cell_type": "code",
      "execution_count": null,
      "metadata": {
        "cellView": "form",
        "id": "Z7OSLz5sLoeB"
      },
      "outputs": [],
      "source": [
        "plt.figure()\n",
        "plt.plot(state_history[0,:], state_history[1,:], 'b-', linewidth= 2, alpha =0.6, label = 'Trajectory')\n",
        "ref_path.plot_track(linewidth = 1)\n",
        "ref_path.plot_track_center(linewidth = 0.8, c='r')\n",
        "plt.legend(prop={'size': 10})\n",
        "plt.axis('equal')\n",
        "plt.axis('off')\n",
        "plt.show()"
      ]
    },
    {
      "cell_type": "code",
      "execution_count": null,
      "metadata": {
        "cellView": "form",
        "id": "sfsBM9SOXe2J"
      },
      "outputs": [],
      "source": [
        "plt.figure()\n",
        "ref_path.plot_track(linewidth = 1)\n",
        "ref_path.plot_track_center(linewidth = 0.8, c='r')\n",
        "\n",
        "sc = plt.scatter(state_history[0, :-1], state_history[1,:-1], s = 10, \n",
        "                c=state_history[2,:-1], cmap=cm.jet, \n",
        "                vmin=0, vmax=5, edgecolor='none', marker='o')\n",
        "cbar = plt.colorbar(sc)\n",
        "cbar.set_label(r\"Velocity [$m/s$]\", size=10)\n",
        "plt.axis('equal')\n",
        "plt.show()"
      ]
    },
    {
      "cell_type": "code",
      "execution_count": null,
      "metadata": {
        "cellView": "form",
        "id": "6aXj0jmbXxk5"
      },
      "outputs": [],
      "source": [
        "plt.figure()\n",
        "ref_path.plot_track(linewidth = 1)\n",
        "ref_path.plot_track_center(linewidth = 0.8, c='r')\n",
        "sc = plt.scatter(state_history[0, :-1], state_history[1,:-1], s = 10, \n",
        "                c=control_history[0,:], cmap=cm.jet, \n",
        "                vmin=0, vmax=5, edgecolor='none', marker='o')\n",
        "cbar = plt.colorbar(sc)\n",
        "cbar.set_label(r\"Longitudinal Accel [$m/s^2$]\", size=10)\n",
        "plt.axis('equal')\n",
        "plt.show()"
      ]
    },
    {
      "cell_type": "code",
      "execution_count": null,
      "metadata": {
        "cellView": "form",
        "id": "H27FQTvN4QjI"
      },
      "outputs": [],
      "source": [
        "plt.figure()\n",
        "ref_path.plot_track(linewidth = 1)\n",
        "ref_path.plot_track_center(linewidth = 0.8, c='r')\n",
        "alat = state_history[2,:]**2*np.tan(state_history[-1,:])/0.257\n",
        "sc = plt.scatter(state_history[0, ], state_history[1,], s = 10, \n",
        "                c=alat, cmap=cm.jet, \n",
        "                vmin = 0, vmax=5, edgecolor='none', marker='o')\n",
        "cbar = plt.colorbar(sc)\n",
        "cbar.set_label(r\"Lateral Accel [$m/s^2$]\", size=10)\n",
        "plt.axis('equal')\n",
        "plt.show()"
      ]
    },
    {
      "cell_type": "code",
      "execution_count": null,
      "metadata": {
        "cellView": "form",
        "id": "KJ_4xWdChUl_"
      },
      "outputs": [],
      "source": [
        "sim = plt.figure()\n",
        "ref_path.plot_track()\n",
        "plan_plot = plt.plot([], [], linewidth= 2)[0]\n",
        "traj_plot = plt.scatter([], [], s = 10, c=[], cmap=cm.jet, vmin=0, vmax=5, edgecolor='none', marker='o')\n",
        "cbar = plt.colorbar(traj_plot)\n",
        "cbar.set_label(r\"velocity [$m/s$]\", size=20)\n",
        "plt.axis('equal')\n",
        "plt.close()\n",
        "\n",
        "def drawframe(n):\n",
        "    traj_plot.set_offsets(state_history[:2,:n+1].T)\n",
        "    traj_plot.set_array(state_history[2,:n+1])\n",
        "    plan_plot.set_data(plan_history[0,:, n], plan_history[1,:, n])\n",
        "    \n",
        "    return (traj_plot,plan_plot)\n",
        "\n",
        "\n",
        "# blit=True re-draws only the parts that have changed.\n",
        "anim = animation.FuncAnimation(sim, drawframe, frames=itr_receding, interval=ilqr.dt*1000, blit=True)\n",
        "HTML(anim.to_html5_video())"
      ]
    }
  ],
  "metadata": {
    "colab": {
      "provenance": []
    },
    "kernelspec": {
      "display_name": "spirit-rl-pybullet",
      "language": "python",
      "name": "python3"
    },
    "language_info": {
      "codemirror_mode": {
        "name": "ipython",
        "version": 3
      },
      "file_extension": ".py",
      "mimetype": "text/x-python",
      "name": "python",
      "nbconvert_exporter": "python",
      "pygments_lexer": "ipython3",
      "version": "3.8.16"
    },
    "vscode": {
      "interpreter": {
        "hash": "49f02b2742529133dbe8dbddfe10b388fed16170e20978eaf0bbb16d1bc6f59d"
      }
    }
  },
  "nbformat": 4,
  "nbformat_minor": 0
}
